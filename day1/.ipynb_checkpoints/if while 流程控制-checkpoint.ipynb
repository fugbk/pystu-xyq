{
 "cells": [
  {
   "cell_type": "code",
   "execution_count": 2,
   "metadata": {},
   "outputs": [
    {
     "name": "stdout",
     "output_type": "stream",
     "text": [
      "INPUT: your age >>>24\n",
      "you are younger than 30.\n"
     ]
    }
   ],
   "source": [
    "# if elif 多重判断\n",
    "\n",
    "age = int(input(\"INPUT: your age >>>\"))\n",
    "\n",
    "if age < 10:\n",
    "    print(\"you are younger than 10.\")\n",
    "elif age < 20:\n",
    "    print(\"you are younger than 20.\")\n",
    "elif age < 30:\n",
    "    print(\"you are younger than 30.\")\n",
    "else:\n",
    "    print(\"you are not young.\")"
   ]
  },
  {
   "cell_type": "code",
   "execution_count": 8,
   "metadata": {},
   "outputs": [
    {
     "name": "stdout",
     "output_type": "stream",
     "text": [
      "guess age >>>20\n",
      "Yes, you got it!\n"
     ]
    }
   ],
   "source": [
    "age = 20\n",
    "while True:\n",
    "    guess_age = int(input(\"guess age >>>\"))\n",
    "    if guess_age == age :\n",
    "        print(\"Yes, you got it!\")\n",
    "        break\n",
    "    elif guess_age < age :\n",
    "        print(\"No, think samaller.\")\n",
    "    else :\n",
    "        print(\"No, think bigger.\")\n",
    "else:\n",
    "     print(\"you have tired too many times.. fuck off\")"
   ]
  },
  {
   "cell_type": "code",
   "execution_count": 3,
   "metadata": {},
   "outputs": [
    {
     "name": "stdout",
     "output_type": "stream",
     "text": [
      "guess age >>> 20\n",
      "Yes, you got it!\n"
     ]
    }
   ],
   "source": [
    "age = 20\n",
    "count = 1\n",
    "while count <= 3:  \n",
    "    guess_age = int(input(\"guess age >>> \"))\n",
    "    if guess_age == age:\n",
    "        print(\"Yes, you got it!\")\n",
    "        break\n",
    "    elif guess_age < age:\n",
    "        print(\"No, think smaller!\")\n",
    "    else:\n",
    "        print(\"No, think bigger!\")\n",
    "    count +=1\n",
    "else:\n",
    "    print(\"you have tired too many times... fuck off\")"
   ]
  },
  {
   "cell_type": "code",
   "execution_count": null,
   "metadata": {},
   "outputs": [],
   "source": []
  }
 ],
 "metadata": {
  "kernelspec": {
   "display_name": "Python 3",
   "language": "python",
   "name": "python3"
  },
  "language_info": {
   "codemirror_mode": {
    "name": "ipython",
    "version": 3
   },
   "file_extension": ".py",
   "mimetype": "text/x-python",
   "name": "python",
   "nbconvert_exporter": "python",
   "pygments_lexer": "ipython3",
   "version": "3.7.0"
  }
 },
 "nbformat": 4,
 "nbformat_minor": 2
}
